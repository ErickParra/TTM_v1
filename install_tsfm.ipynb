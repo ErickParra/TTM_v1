{
 "cells": [
  {
   "cell_type": "markdown",
   "metadata": {},
   "source": [
    "# Get model, install prereqs"
   ]
  },
  {
   "cell_type": "code",
   "execution_count": null,
   "metadata": {},
   "outputs": [
    {
     "ename": "",
     "evalue": "",
     "output_type": "error",
     "traceback": [
      "\u001b[1;31mThe kernel failed to start due to the missing module 'psutil'. Consider installing this module.\n",
      "\u001b[1;31mClick <a href='https://aka.ms/kernelFailuresMissingModule'>here</a> for more info."
     ]
    }
   ],
   "source": [
    "#Installation\n",
    "# Clone the ibm/tsfm\n",
    "! git clone https://github.com/ibm-granite/granite-tsfm.git\n",
    "! ls\n",
    "\n",
    "# Change directory. Move inside the tsfm repo.\n",
    "%cd granite-tsfm\n",
    "! ls\n",
    "\n",
    "\n",
    "# Relax requirement for python version < 3.12\n",
    "! sed -i.orig 's/3\\.12/3.13/g' pyproject.toml\n",
    "\n",
    "# Install the tsfm library\n",
    "#! pip install \".[notebooks]\"\n",
    "#! python3 -m pip install \".[notebooks]\"\n",
    "! pip3 install \".[notebooks]\""
   ]
  }
 ],
 "metadata": {
  "kernelspec": {
   "display_name": "Python 3",
   "language": "python",
   "name": "python3"
  },
  "language_info": {
   "codemirror_mode": {
    "name": "ipython",
    "version": 3
   },
   "file_extension": ".py",
   "mimetype": "text/x-python",
   "name": "python",
   "nbconvert_exporter": "python",
   "pygments_lexer": "ipython3",
   "version": "3.12.5"
  }
 },
 "nbformat": 4,
 "nbformat_minor": 2
}
